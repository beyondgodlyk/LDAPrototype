{
 "cells": [
  {
   "cell_type": "code",
   "execution_count": 5,
   "id": "c5e6f796",
   "metadata": {
    "ExecuteTime": {
     "end_time": "2023-07-23T13:52:21.340485200Z",
     "start_time": "2023-07-23T13:52:21.330445200Z"
    }
   },
   "outputs": [],
   "source": [
    "from rpy2.robjects.packages import importr, data\n",
    "from rpy2.robjects import pandas2ri, IntVector\n",
    "\n",
    "import rpy2.robjects as robjects\n",
    "pandas2ri.activate()"
   ]
  },
  {
   "cell_type": "code",
   "execution_count": 2,
   "id": "4f458e1b",
   "metadata": {
    "ExecuteTime": {
     "start_time": "2023-07-23T13:52:25.289156900Z"
    },
    "is_executing": true
   },
   "outputs": [
    {
     "name": "stderr",
     "output_type": "stream",
     "text": [
      "R[write to console]: Installing package into 'C:/Users/Guts/AppData/Local/R/win-library/4.2'\n",
      "(as 'lib' is unspecified)\n",
      "\n"
     ]
    },
    {
     "name": "stdout",
     "output_type": "stream",
     "text": [
      "--- Please select a CRAN mirror for use in this session ---\n"
     ]
    },
    {
     "name": "stderr",
     "output_type": "stream",
     "text": [
      "R[write to console]: trying URL 'https://mirror.dogado.de/cran/bin/windows/contrib/4.2/ldaPrototype_0.3.1.zip'\n",
      "\n",
      "R[write to console]: Content type 'application/zip'\n",
      "R[write to console]:  length 259140 bytes (253 KB)\n",
      "\n",
      "R[write to console]: downloaded 253 KB\n",
      "\n",
      "\n"
     ]
    },
    {
     "name": "stdout",
     "output_type": "stream",
     "text": [
      "package 'ldaPrototype' successfully unpacked and MD5 sums checked\n",
      "\n",
      "The downloaded binary packages are in\n",
      "\tC:\\Users\\Guts\\AppData\\Local\\Temp\\RtmpQz6SE2\\downloaded_packages\n"
     ]
    }
   ],
   "source": [
    "utils = importr('utils')\n",
    "base = importr('base')\n",
    "\n",
    "utils.install_packages('ldaPrototype')\n",
    "ldaPrototype = importr(\"ldaPrototype\")"
   ]
  },
  {
   "cell_type": "code",
   "execution_count": 6,
   "id": "99350683",
   "metadata": {},
   "outputs": [],
   "source": [
    "robjects.r['load']('data/reuters_docs.rda')\n",
    "docs = robjects.r['reuters_docs']\n",
    "\n",
    "robjects.r['load']('data/reuters_vocab.rda')\n",
    "vocab = robjects.r['reuters_vocab']"
   ]
  },
  {
   "cell_type": "code",
   "execution_count": 7,
   "id": "15c82932",
   "metadata": {},
   "outputs": [
    {
     "name": "stderr",
     "output_type": "stream",
     "text": [
      "R[write to console]: Exporting objects to package env on master for mode: local\n",
      "\n"
     ]
    }
   ],
   "source": [
    "res = ldaPrototype.LDAPrototype(docs = docs, vocabLDA = vocab, n = 4, K = 10, seeds = IntVector([1,2,3,4]))"
   ]
  },
  {
   "cell_type": "code",
   "execution_count": 8,
   "id": "490216d6",
   "metadata": {},
   "outputs": [
    {
     "name": "stdout",
     "output_type": "stream",
     "text": [
      "PrototypeLDA Object with elements\n",
      "\"id\", \"protoid\", \"lda\", \"jobs\", \"param\", \"sclop\"\n",
      " Prototype of computation \"LDARep\" is LDA \"2\"\n",
      " K: 10, alpha: 0.1, eta: 0.1, num.iterations: 200\n",
      " limit.rel: 0.002, limit.abs: 10, atLeast: 0\n",
      "\n",
      "\n"
     ]
    }
   ],
   "source": [
    "print(res)"
   ]
  },
  {
   "cell_type": "code",
   "execution_count": 9,
   "id": "caf71f5a",
   "metadata": {},
   "outputs": [],
   "source": [
    "from rpy2.robjects.conversion import localconverter\n",
    "\n",
    "with localconverter(robjects.default_converter + pandas2ri.converter):\n",
    "    result = robjects.conversion.rpy2py(res)"
   ]
  },
  {
   "cell_type": "code",
   "execution_count": 10,
   "id": "749912ac",
   "metadata": {},
   "outputs": [
    {
     "data": {
      "text/plain": [
       "o{'K': [10], 'alpha': [0.1], 'eta': [0.1], 'num.iterations': [200.], }"
      ]
     },
     "execution_count": 10,
     "metadata": {},
     "output_type": "execute_result"
    }
   ],
   "source": [
    "result['lda']['2']['param']"
   ]
  },
  {
   "cell_type": "code",
   "execution_count": null,
   "id": "1dae229e",
   "metadata": {},
   "outputs": [],
   "source": []
  }
 ],
 "metadata": {
  "kernelspec": {
   "display_name": "Python 3 (ipykernel)",
   "language": "python",
   "name": "python3"
  },
  "language_info": {
   "codemirror_mode": {
    "name": "ipython",
    "version": 3
   },
   "file_extension": ".py",
   "mimetype": "text/x-python",
   "name": "python",
   "nbconvert_exporter": "python",
   "pygments_lexer": "ipython3",
   "version": "3.8.17"
  }
 },
 "nbformat": 4,
 "nbformat_minor": 5
}
