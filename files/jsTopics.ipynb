{
 "cells": [
  {
   "cell_type": "code",
   "execution_count": 1,
   "id": "3cf1d5f2",
   "metadata": {},
   "outputs": [
    {
     "name": "stdout",
     "output_type": "stream",
     "text": [
      "importing Jupyter notebook from TopicSimilarity.ipynb\n"
     ]
    }
   ],
   "source": [
    "import pandas as pd\n",
    "import numpy as np\n",
    "import import_ipynb\n",
    "from TopicSimilarity import TopicSimilarity"
   ]
  },
  {
   "cell_type": "code",
   "execution_count": 2,
   "id": "58e5d8e9",
   "metadata": {},
   "outputs": [],
   "source": [
    "df=pd.read_csv('dataa/Topics.csv')"
   ]
  },
  {
   "cell_type": "code",
   "execution_count": 3,
   "id": "98c81ab3",
   "metadata": {},
   "outputs": [],
   "source": [
    "def js_topics_serial(topics, epsilon=1e-06):\n",
    "    N = topics.shape[1]\n",
    "    rel = topics + epsilon\n",
    "    rel = rel / rel.sum(axis=0)\n",
    "    logrel = (rel*np.log(rel)).sum(axis=0)\n",
    "    words_considered = np.repeat(topics.shape[0], N)\n",
    "\n",
    "    sims = np.zeros((N, N))\n",
    "    sims = pd.DataFrame(sims, index=topics.columns, columns=topics.columns)\n",
    "    \n",
    "    for i in range(N):\n",
    "        for j in range(N):\n",
    "            sims.iloc[i,j] = logrel[i] + logrel[j] - np.sum((rel.iloc[:,i] + rel.iloc[:,j]) * np.log(rel.iloc[:,i] + rel.iloc[:,j]))\n",
    "    \n",
    "    sims = 1 - sims/2 - np.log(2)\n",
    "    \n",
    "    wordslimit = words_considered\n",
    "    wordsconsidered = words_considered\n",
    "    param = {\"type\": \"Jensen-Shannon Divergence\", \"epsilon\": epsilon}\n",
    "    res = TopicSimilarity(sims, wordslimit, wordsconsidered, param)\n",
    "    return res"
   ]
  },
  {
   "cell_type": "code",
   "execution_count": 4,
   "id": "eb3fe41a",
   "metadata": {
    "scrolled": false
   },
   "outputs": [],
   "source": [
    "z = js_topics_serial(df)"
   ]
  }
 ],
 "metadata": {
  "kernelspec": {
   "display_name": "Python 3 (ipykernel)",
   "language": "python",
   "name": "python3"
  },
  "language_info": {
   "codemirror_mode": {
    "name": "ipython",
    "version": 3
   },
   "file_extension": ".py",
   "mimetype": "text/x-python",
   "name": "python",
   "nbconvert_exporter": "python",
   "pygments_lexer": "ipython3",
   "version": "3.8.17"
  }
 },
 "nbformat": 4,
 "nbformat_minor": 5
}
