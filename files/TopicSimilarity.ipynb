{
 "cells": [
  {
   "cell_type": "code",
   "execution_count": 3,
   "id": "e29c174a",
   "metadata": {},
   "outputs": [],
   "source": [
    "class TopicSimilarity:\n",
    "    def __init__(self, sims, wordslimit, wordsconsidered, param):\n",
    "        self.sims = sims\n",
    "        self.wordslimit = wordslimit\n",
    "        self.wordsconsidered = wordsconsidered\n",
    "        self.param = param"
   ]
  }
 ],
 "metadata": {
  "kernelspec": {
   "display_name": "Python 3 (ipykernel)",
   "language": "python",
   "name": "python3"
  },
  "language_info": {
   "codemirror_mode": {
    "name": "ipython",
    "version": 3
   },
   "file_extension": ".py",
   "mimetype": "text/x-python",
   "name": "python",
   "nbconvert_exporter": "python",
   "pygments_lexer": "ipython3",
   "version": "3.8.17"
  }
 },
 "nbformat": 4,
 "nbformat_minor": 5
}
