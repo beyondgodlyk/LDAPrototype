{
 "cells": [
  {
   "cell_type": "code",
   "execution_count": 9,
   "id": "4f8804d2",
   "metadata": {},
   "outputs": [],
   "source": [
    "import pandas as pd\n",
    "import numpy as np\n",
    "from sklearn.metrics import jaccard_score\n",
    "import import_ipynb\n",
    "from TopicSimilarity import TopicSimilarity"
   ]
  },
  {
   "cell_type": "code",
   "execution_count": 10,
   "id": "5c5e809e",
   "metadata": {},
   "outputs": [],
   "source": [
    "df=pd.read_csv('dataa/Topics.csv')"
   ]
  },
  {
   "cell_type": "code",
   "execution_count": 11,
   "id": "dc8f4d00",
   "metadata": {},
   "outputs": [],
   "source": [
    "def jaccardTopics_serial(topics, limit_rel = 1/500, limit_abs = 10, atleast = 0):\n",
    "    N = topics.shape[1]\n",
    "    index = (topics > limit_abs) & (topics > np.tile(np.sum(topics, axis=0)*limit_rel, (topics.shape[0], 1)))\n",
    "    words_considered = np.sum(index, axis=0)\n",
    "    ind = words_considered < atleast\n",
    "    if atleast > 0 and np.any(ind):\n",
    "        for i in range(N):\n",
    "            if ind[i] == True:\n",
    "                # freq variable denotes the frequency of (at_least)th most common word\n",
    "                freq = -np.sort(-topics.iloc[:, i])[atleast-1]\n",
    "                index.iloc[:, i] = topics.iloc[:, i] >= freq\n",
    "    sims = np.zeros((N, N))\n",
    "    sims = pd.DataFrame(sims, index=topics.columns, columns=topics.columns)\n",
    "    \n",
    "    index = index * 1\n",
    "    for i in range(N):\n",
    "        for j in range(N):\n",
    "            sims.iloc[i,j] = jaccard_score(index.iloc[:,i], index.iloc[:,j])\n",
    "    \n",
    "    wordslimit = words_considered\n",
    "    wordsconsidered = np.sum(index, axis=0)\n",
    "    param = {\"type\": \"Jaccard Coefficient\",\n",
    "                    \"limit.rel\": limit_rel, \"limit.abs\": limit_abs, \"atLeast\": atleast}\n",
    "    res = TopicSimilarity(sims, wordslimit, wordsconsidered, param)\n",
    "    return res"
   ]
  },
  {
   "cell_type": "code",
   "execution_count": 12,
   "id": "e4d88149",
   "metadata": {},
   "outputs": [],
   "source": [
    "z = jaccardTopics_serial(df, atleast = 2)"
   ]
  }
 ],
 "metadata": {
  "kernelspec": {
   "display_name": "Python 3 (ipykernel)",
   "language": "python",
   "name": "python3"
  },
  "language_info": {
   "codemirror_mode": {
    "name": "ipython",
    "version": 3
   },
   "file_extension": ".py",
   "mimetype": "text/x-python",
   "name": "python",
   "nbconvert_exporter": "python",
   "pygments_lexer": "ipython3",
   "version": "3.8.17"
  }
 },
 "nbformat": 4,
 "nbformat_minor": 5
}
