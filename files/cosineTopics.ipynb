{
 "cells": [
  {
   "cell_type": "code",
   "execution_count": 34,
   "metadata": {
    "ExecuteTime": {
     "end_time": "2023-07-23T14:45:42.541857700Z",
     "start_time": "2023-07-23T14:45:41.999762200Z"
    }
   },
   "outputs": [],
   "source": [
    "from sklearn.metrics.pairwise import cosine_similarity\n",
    "import pandas as pd\n",
    "import numpy as np\n",
    "import import_ipynb\n",
    "from TopicSimilarity import TopicSimilarity"
   ]
  },
  {
   "cell_type": "code",
   "execution_count": 35,
   "metadata": {},
   "outputs": [],
   "source": [
    "df=pd.read_csv('dataa/Topics_Cosine.csv')"
   ]
  },
  {
   "cell_type": "code",
   "execution_count": 38,
   "metadata": {
    "ExecuteTime": {
     "end_time": "2023-07-23T14:08:36.538517500Z",
     "start_time": "2023-07-23T14:08:36.529217100Z"
    }
   },
   "outputs": [],
   "source": [
    "def cosineTopics_serial(topics):\n",
    "    N = topics.shape[1]\n",
    "    sims = cosine_similarity(np.transpose(topics), np.transpose(topics))\n",
    "    words_considered = np.full(N, topics.shape[0])\n",
    "    \n",
    "    wordslimit = words_considered\n",
    "    wordsconsidered = words_considered\n",
    "    param = {\"type\": \"CosineSimilarity\"}\n",
    "    res = TopicSimilarity(sims, wordslimit, wordsconsidered, param)\n",
    "    return res"
   ]
  },
  {
   "cell_type": "code",
   "execution_count": 39,
   "metadata": {
    "ExecuteTime": {
     "end_time": "2023-07-23T15:08:21.806534Z",
     "start_time": "2023-07-23T15:08:21.792479400Z"
    }
   },
   "outputs": [],
   "source": [
    "z = cosineTopics_serial(df)"
   ]
  }
 ],
 "metadata": {
  "kernelspec": {
   "display_name": "Python 3 (ipykernel)",
   "language": "python",
   "name": "python3"
  },
  "language_info": {
   "codemirror_mode": {
    "name": "ipython",
    "version": 3
   },
   "file_extension": ".py",
   "mimetype": "text/x-python",
   "name": "python",
   "nbconvert_exporter": "python",
   "pygments_lexer": "ipython3",
   "version": "3.8.17"
  }
 },
 "nbformat": 4,
 "nbformat_minor": 1
}
