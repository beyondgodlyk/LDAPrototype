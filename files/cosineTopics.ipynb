{
 "cells": [
  {
   "cell_type": "code",
   "execution_count": 1,
   "metadata": {
    "ExecuteTime": {
     "end_time": "2023-07-23T14:45:42.541857700Z",
     "start_time": "2023-07-23T14:45:41.999762200Z"
    }
   },
   "outputs": [
    {
     "name": "stdout",
     "output_type": "stream",
     "text": [
      "importing Jupyter notebook from TopicSimilarity.ipynb\n"
     ]
    }
   ],
   "source": [
    "from sklearn.metrics.pairwise import cosine_similarity\n",
    "import pandas as pd\n",
    "import numpy as np\n",
    "import import_ipynb\n",
    "from TopicSimilarity import TopicSimilarity"
   ]
  },
  {
   "cell_type": "code",
   "execution_count": 2,
   "metadata": {},
   "outputs": [],
   "source": [
    "df=pd.read_csv('dataa/Topics.csv')"
   ]
  },
  {
   "cell_type": "code",
   "execution_count": 9,
   "metadata": {
    "ExecuteTime": {
     "end_time": "2023-07-23T14:08:36.538517500Z",
     "start_time": "2023-07-23T14:08:36.529217100Z"
    }
   },
   "outputs": [],
   "source": [
    "def cosineTopics_serial(topics):\n",
    "    N = topics.shape[1]\n",
    "    sims = cosine_similarity(np.transpose(topics), np.transpose(topics))\n",
    "    sims = pd.DataFrame(sims, index=topics.columns, columns=topics.columns)\n",
    "    words_considered = np.full(N, topics.shape[0])\n",
    "    \n",
    "    wordslimit = words_considered\n",
    "    wordsconsidered = words_considered\n",
    "    param = {\"type\": \"CosineSimilarity\"}\n",
    "    res = TopicSimilarity(sims, wordslimit, wordsconsidered, param)\n",
    "    return res"
   ]
  },
  {
   "cell_type": "code",
   "execution_count": 11,
   "metadata": {
    "ExecuteTime": {
     "end_time": "2023-07-23T15:08:21.806534Z",
     "start_time": "2023-07-23T15:08:21.792479400Z"
    }
   },
   "outputs": [],
   "source": [
    "z = cosineTopics_serial(df)"
   ]
  }
 ],
 "metadata": {
  "kernelspec": {
   "display_name": "Python 3 (ipykernel)",
   "language": "python",
   "name": "python3"
  },
  "language_info": {
   "codemirror_mode": {
    "name": "ipython",
    "version": 3
   },
   "file_extension": ".py",
   "mimetype": "text/x-python",
   "name": "python",
   "nbconvert_exporter": "python",
   "pygments_lexer": "ipython3",
   "version": "3.8.17"
  }
 },
 "nbformat": 4,
 "nbformat_minor": 1
}
