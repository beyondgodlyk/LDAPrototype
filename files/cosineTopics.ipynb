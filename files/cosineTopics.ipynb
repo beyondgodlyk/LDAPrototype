{
 "cells": [
  {
   "cell_type": "code",
   "execution_count": 5,
   "metadata": {
    "ExecuteTime": {
     "end_time": "2023-07-23T14:45:42.541857700Z",
     "start_time": "2023-07-23T14:45:41.999762200Z"
    }
   },
   "outputs": [],
   "source": [
    "from sklearn.metrics.pairwise import cosine_similarity\n",
    "import pandas as pd\n",
    "import numpy as np"
   ]
  },
  {
   "cell_type": "code",
   "execution_count": 6,
   "metadata": {},
   "outputs": [],
   "source": [
    "df=pd.read_csv('dataa/Topics_Cosine.csv')"
   ]
  },
  {
   "cell_type": "code",
   "execution_count": 7,
   "metadata": {
    "ExecuteTime": {
     "end_time": "2023-07-23T14:08:36.538517500Z",
     "start_time": "2023-07-23T14:08:36.529217100Z"
    }
   },
   "outputs": [],
   "source": [
    "def cosineTopics_serial(topics):\n",
    "    N = topics.shape[1]\n",
    "    sims = cosine_similarity(np.transpose(topics), np.transpose(topics))\n",
    "    words_considered = np.full(N, topics.shape[0])\n",
    "    res = {\"sims\" : sims, \"wordslimit\": words_considered, \"wordsconsidered\": words_considered, \"param\" : {\"type\": \"CosineSimilarity\"}}\n",
    "    return res"
   ]
  },
  {
   "cell_type": "code",
   "execution_count": 8,
   "metadata": {
    "ExecuteTime": {
     "end_time": "2023-07-23T15:08:21.806534Z",
     "start_time": "2023-07-23T15:08:21.792479400Z"
    }
   },
   "outputs": [],
   "source": [
    "z = cosineTopics_serial(df)"
   ]
  },
  {
   "cell_type": "code",
   "execution_count": 9,
   "metadata": {
    "ExecuteTime": {
     "end_time": "2023-07-23T15:09:32.164328Z",
     "start_time": "2023-07-23T15:09:32.160162700Z"
    }
   },
   "outputs": [
    {
     "data": {
      "text/plain": [
       "{'sims': array([[1.        , 0.10123695, 0.25978957, ..., 0.1814139 , 0.53732623,\n",
       "         0.14307825],\n",
       "        [0.10123695, 1.        , 0.28435175, ..., 0.27216189, 0.21697472,\n",
       "         0.5538398 ],\n",
       "        [0.25978957, 0.28435175, 1.        , ..., 0.6448308 , 0.55449664,\n",
       "         0.67455114],\n",
       "        ...,\n",
       "        [0.1814139 , 0.27216189, 0.6448308 , ..., 1.        , 0.3967035 ,\n",
       "         0.45405401],\n",
       "        [0.53732623, 0.21697472, 0.55449664, ..., 0.3967035 , 1.        ,\n",
       "         0.39198187],\n",
       "        [0.14307825, 0.5538398 , 0.67455114, ..., 0.45405401, 0.39198187,\n",
       "         1.        ]]),\n",
       " 'wordslimit': array([2141, 2141, 2141, 2141, 2141, 2141, 2141, 2141, 2141, 2141, 2141,\n",
       "        2141, 2141, 2141, 2141, 2141, 2141, 2141, 2141, 2141, 2141, 2141,\n",
       "        2141, 2141, 2141, 2141, 2141, 2141, 2141, 2141, 2141, 2141, 2141,\n",
       "        2141, 2141, 2141, 2141, 2141, 2141, 2141]),\n",
       " 'wordsconsidered': array([2141, 2141, 2141, 2141, 2141, 2141, 2141, 2141, 2141, 2141, 2141,\n",
       "        2141, 2141, 2141, 2141, 2141, 2141, 2141, 2141, 2141, 2141, 2141,\n",
       "        2141, 2141, 2141, 2141, 2141, 2141, 2141, 2141, 2141, 2141, 2141,\n",
       "        2141, 2141, 2141, 2141, 2141, 2141, 2141]),\n",
       " 'param': {'type': 'CosineSimilarity'}}"
      ]
     },
     "execution_count": 9,
     "metadata": {},
     "output_type": "execute_result"
    }
   ],
   "source": [
    "z"
   ]
  },
  {
   "cell_type": "code",
   "execution_count": null,
   "metadata": {},
   "outputs": [],
   "source": []
  }
 ],
 "metadata": {
  "kernelspec": {
   "display_name": "Python 3 (ipykernel)",
   "language": "python",
   "name": "python3"
  },
  "language_info": {
   "codemirror_mode": {
    "name": "ipython",
    "version": 3
   },
   "file_extension": ".py",
   "mimetype": "text/x-python",
   "name": "python",
   "nbconvert_exporter": "python",
   "pygments_lexer": "ipython3",
   "version": "3.8.17"
  }
 },
 "nbformat": 4,
 "nbformat_minor": 1
}
