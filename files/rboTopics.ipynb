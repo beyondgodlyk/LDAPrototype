{
 "cells": [
  {
   "cell_type": "code",
   "execution_count": 1,
   "id": "3a5d123b",
   "metadata": {},
   "outputs": [
    {
     "name": "stdout",
     "output_type": "stream",
     "text": [
      "importing Jupyter notebook from TopicSimilarity.ipynb\n"
     ]
    }
   ],
   "source": [
    "import pandas as pd\n",
    "import numpy as np\n",
    "from scipy.stats import rankdata\n",
    "import import_ipynb\n",
    "from TopicSimilarity import TopicSimilarity"
   ]
  },
  {
   "cell_type": "code",
   "execution_count": 2,
   "id": "0438a88b",
   "metadata": {},
   "outputs": [],
   "source": [
    "df=pd.read_csv('dataa/Topics_rbo.csv')"
   ]
  },
  {
   "cell_type": "code",
   "execution_count": 3,
   "id": "732ebe39",
   "metadata": {},
   "outputs": [],
   "source": [
    "def rboTopics_serial(topics, k, p):\n",
    "    N = topics.shape[1]\n",
    "    ranks = rankdata(-topics, method='min', axis=0)\n",
    "    words_considered = np.sum(ranks < k+1)\n",
    "    \n",
    "    sims = np.zeros((N, N))\n",
    "    sims = pd.DataFrame(sims, index=topics.columns, columns=topics.columns)\n",
    "    \n",
    "    for i in range(N):\n",
    "        for j in range(N):\n",
    "            tmp = np.zeros(k)\n",
    "            for d in range(1, k+1):\n",
    "                tmp1 = ranks[:, i] < d + 1\n",
    "                tmp2 = ranks[:, j] < d + 1\n",
    "                tmp[d - 1] = 2 * np.sum(tmp1 & tmp2) / (np.sum(tmp1) + np.sum(tmp2)) * (p ** d)\n",
    "            sims.iloc[i,j] = tmp[k-1] + np.sum(tmp) * (1 - p) / p\n",
    "    \n",
    "    \n",
    "\n",
    "    wordslimit = words_considered\n",
    "    wordsconsidered = words_considered\n",
    "    param = {\"type\": \"RBO Similarity\", \"k\": k, \"p\": p}\n",
    "    res = TopicSimilarity(sims, wordslimit, wordsconsidered, param)\n",
    "    return res"
   ]
  },
  {
   "cell_type": "code",
   "execution_count": 4,
   "id": "181fb561",
   "metadata": {},
   "outputs": [],
   "source": [
    "z = rboTopics_serial(df, k = 12, p = 0.9)"
   ]
  }
 ],
 "metadata": {
  "kernelspec": {
   "display_name": "Python 3 (ipykernel)",
   "language": "python",
   "name": "python3"
  },
  "language_info": {
   "codemirror_mode": {
    "name": "ipython",
    "version": 3
   },
   "file_extension": ".py",
   "mimetype": "text/x-python",
   "name": "python",
   "nbconvert_exporter": "python",
   "pygments_lexer": "ipython3",
   "version": "3.8.17"
  }
 },
 "nbformat": 4,
 "nbformat_minor": 5
}
